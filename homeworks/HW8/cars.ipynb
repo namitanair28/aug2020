{
 "cells": [
  {
   "cell_type": "code",
   "execution_count": 12,
   "metadata": {},
   "outputs": [],
   "source": [
    "# Namita Nair, Lab Section 007\n",
    "# nair0025"
   ]
  },
  {
   "cell_type": "code",
   "execution_count": 1,
   "metadata": {},
   "outputs": [],
   "source": [
    "import csv"
   ]
  },
  {
   "cell_type": "code",
   "execution_count": 2,
   "metadata": {},
   "outputs": [
    {
     "data": {
      "text/plain": [
       "'%.3f'"
      ]
     },
     "execution_count": 2,
     "metadata": {},
     "output_type": "execute_result"
    }
   ],
   "source": [
    "%precision 3"
   ]
  },
  {
   "cell_type": "code",
   "execution_count": 3,
   "metadata": {},
   "outputs": [],
   "source": [
    "with open('cars_mpg.csv') as f:\n",
    "    mpg = list(csv.DictReader(f))"
   ]
  },
  {
   "cell_type": "code",
   "execution_count": 4,
   "metadata": {},
   "outputs": [
    {
     "data": {
      "text/plain": [
       "[16.859, 23.440]"
      ]
     },
     "execution_count": 4,
     "metadata": {},
     "output_type": "execute_result"
    }
   ],
   "source": [
    "# Task 1 - Worksheet\n",
    "# Purpose: Write the code that calculates the average miles per gallon (mpg) for\n",
    "# city driving and the average mpg for highway driving.\n",
    "# Output: A list with two floats will be created. The first float will be the average mpg for\n",
    "# city driving and the second the average mpg for highway driving. Your list must be the\n",
    "# final thing displayed. \n",
    "\n",
    "city_highway_avg = []\n",
    "city_highway_avg.append(sum(float(d['cty']) for d in mpg)/len(mpg))\n",
    "city_highway_avg.append(sum(float(d['hwy']) for d in mpg)/len(mpg))\n",
    "city_highway_avg"
   ]
  },
  {
   "cell_type": "code",
   "execution_count": 5,
   "metadata": {},
   "outputs": [
    {
     "data": {
      "text/plain": [
       "{'allude',\n",
       " 'chevron',\n",
       " 'doggie',\n",
       " 'freeway',\n",
       " 'honda',\n",
       " 'hyundai',\n",
       " 'jeep',\n",
       " 'land rover',\n",
       " 'lincoln',\n",
       " 'mercury',\n",
       " 'nissan',\n",
       " 'silver',\n",
       " 'subbie',\n",
       " 'tinker',\n",
       " 'volks'}"
      ]
     },
     "execution_count": 5,
     "metadata": {},
     "output_type": "execute_result"
    }
   ],
   "source": [
    "# Task 2 - Worksheet\n",
    "# Purpose: Write the code that shows the different types of manufacturers\n",
    "# Output: A set of the manufacturers\n",
    "\n",
    "manufacturers = set(m['manufacturer'] for m in mpg)\n",
    "manufacturers"
   ]
  },
  {
   "cell_type": "code",
   "execution_count": 6,
   "metadata": {},
   "outputs": [
    {
     "data": {
      "text/plain": [
       "[[18.643,\n",
       "  13.250,\n",
       "  14.000,\n",
       "  17.611,\n",
       "  11.500,\n",
       "  15.000,\n",
       "  17.000,\n",
       "  13.500,\n",
       "  18.529,\n",
       "  13.135,\n",
       "  11.333,\n",
       "  19.286,\n",
       "  24.444,\n",
       "  20.926,\n",
       "  18.077],\n",
       " [26.857,\n",
       "  18.000,\n",
       "  19.360,\n",
       "  26.444,\n",
       "  16.500,\n",
       "  21.895,\n",
       "  26.400,\n",
       "  17.625,\n",
       "  24.912,\n",
       "  17.946,\n",
       "  17.000,\n",
       "  25.571,\n",
       "  32.556,\n",
       "  29.222,\n",
       "  24.615]]"
      ]
     },
     "execution_count": 6,
     "metadata": {},
     "output_type": "execute_result"
    }
   ],
   "source": [
    "# Task 3 - Worksheet\n",
    "# Purpose: Write the code that calculates the average mpg city driving and the average mpg for highway driving\n",
    "# for each manufacturer. \n",
    "# Output: A list of two lists. The first list will be for the city and the\n",
    "# second list will be for the highway. \n",
    "\n",
    "cty_hwy_avg_lists = []\n",
    "cty_averages = []\n",
    "hwy_averages = []\n",
    "for m in manufacturers:\n",
    "    count = 0\n",
    "    total = 0\n",
    "    for d in mpg:\n",
    "        if d['manufacturer'] == m:\n",
    "            count += 1\n",
    "            total += float(d['cty'])\n",
    "    cty_averages.append(total/count)\n",
    "for m in manufacturers:\n",
    "    count = 0\n",
    "    total = 0\n",
    "    for d in mpg:\n",
    "        if d['manufacturer'] == m:\n",
    "            count += 1\n",
    "            total += float(d['hwy'])\n",
    "    hwy_averages.append(total/count)\n",
    "cty_hwy_avg_lists.append(cty_averages)\n",
    "cty_hwy_avg_lists.append(hwy_averages)\n",
    "cty_hwy_avg_lists"
   ]
  },
  {
   "cell_type": "code",
   "execution_count": 7,
   "metadata": {},
   "outputs": [
    {
     "data": {
      "text/plain": [
       "[[11.333,\n",
       "  11.500,\n",
       "  13.135,\n",
       "  13.250,\n",
       "  13.500,\n",
       "  14.000,\n",
       "  15.000,\n",
       "  17.000,\n",
       "  17.611,\n",
       "  18.077,\n",
       "  18.529,\n",
       "  18.643,\n",
       "  19.286,\n",
       "  20.926,\n",
       "  24.444],\n",
       " [16.500,\n",
       "  17.000,\n",
       "  17.625,\n",
       "  17.946,\n",
       "  18.000,\n",
       "  19.360,\n",
       "  21.895,\n",
       "  24.615,\n",
       "  24.912,\n",
       "  25.571,\n",
       "  26.400,\n",
       "  26.444,\n",
       "  26.857,\n",
       "  29.222,\n",
       "  32.556]]"
      ]
     },
     "execution_count": 7,
     "metadata": {},
     "output_type": "execute_result"
    }
   ],
   "source": [
    "# Task 4 - Worksheet\n",
    "# Purpose: Sort the two lists from task 3 by the mpg\n",
    "# Output: A list of two lists, first for city averages and second for highway.\n",
    "\n",
    "cty_hwy_avg_lists[0].sort()\n",
    "cty_hwy_avg_lists[1].sort()\n",
    "cty_hwy_avg_lists"
   ]
  },
  {
   "cell_type": "code",
   "execution_count": 8,
   "metadata": {},
   "outputs": [
    {
     "data": {
      "text/html": [
       "<div>\n",
       "<style scoped>\n",
       "    .dataframe tbody tr th:only-of-type {\n",
       "        vertical-align: middle;\n",
       "    }\n",
       "\n",
       "    .dataframe tbody tr th {\n",
       "        vertical-align: top;\n",
       "    }\n",
       "\n",
       "    .dataframe thead th {\n",
       "        text-align: right;\n",
       "    }\n",
       "</style>\n",
       "<table border=\"1\" class=\"dataframe\">\n",
       "  <thead>\n",
       "    <tr style=\"text-align: right;\">\n",
       "      <th></th>\n",
       "      <th>manufacturer</th>\n",
       "      <th>model</th>\n",
       "      <th>displ</th>\n",
       "      <th>year</th>\n",
       "      <th>cyl</th>\n",
       "      <th>trans</th>\n",
       "      <th>drv</th>\n",
       "      <th>cty</th>\n",
       "      <th>hwy</th>\n",
       "      <th>fl</th>\n",
       "      <th>class</th>\n",
       "    </tr>\n",
       "  </thead>\n",
       "  <tbody>\n",
       "    <tr>\n",
       "      <td>1</td>\n",
       "      <td>allude</td>\n",
       "      <td>excel</td>\n",
       "      <td>1.8</td>\n",
       "      <td>1999</td>\n",
       "      <td>4</td>\n",
       "      <td>auto(l5)</td>\n",
       "      <td>f</td>\n",
       "      <td>18</td>\n",
       "      <td>29</td>\n",
       "      <td>p</td>\n",
       "      <td>compact</td>\n",
       "    </tr>\n",
       "    <tr>\n",
       "      <td>2</td>\n",
       "      <td>allude</td>\n",
       "      <td>excel</td>\n",
       "      <td>1.8</td>\n",
       "      <td>1999</td>\n",
       "      <td>4</td>\n",
       "      <td>manual(m5)</td>\n",
       "      <td>f</td>\n",
       "      <td>21</td>\n",
       "      <td>29</td>\n",
       "      <td>p</td>\n",
       "      <td>compact</td>\n",
       "    </tr>\n",
       "    <tr>\n",
       "      <td>3</td>\n",
       "      <td>allude</td>\n",
       "      <td>excel</td>\n",
       "      <td>2.0</td>\n",
       "      <td>2008</td>\n",
       "      <td>4</td>\n",
       "      <td>manual(m6)</td>\n",
       "      <td>f</td>\n",
       "      <td>20</td>\n",
       "      <td>31</td>\n",
       "      <td>p</td>\n",
       "      <td>compact</td>\n",
       "    </tr>\n",
       "    <tr>\n",
       "      <td>4</td>\n",
       "      <td>allude</td>\n",
       "      <td>excel</td>\n",
       "      <td>2.0</td>\n",
       "      <td>2008</td>\n",
       "      <td>4</td>\n",
       "      <td>auto(av)</td>\n",
       "      <td>f</td>\n",
       "      <td>21</td>\n",
       "      <td>30</td>\n",
       "      <td>p</td>\n",
       "      <td>compact</td>\n",
       "    </tr>\n",
       "    <tr>\n",
       "      <td>5</td>\n",
       "      <td>allude</td>\n",
       "      <td>excel</td>\n",
       "      <td>2.8</td>\n",
       "      <td>1999</td>\n",
       "      <td>6</td>\n",
       "      <td>auto(l5)</td>\n",
       "      <td>f</td>\n",
       "      <td>16</td>\n",
       "      <td>26</td>\n",
       "      <td>p</td>\n",
       "      <td>compact</td>\n",
       "    </tr>\n",
       "  </tbody>\n",
       "</table>\n",
       "</div>"
      ],
      "text/plain": [
       "  manufacturer  model  displ  year  cyl       trans drv  cty  hwy fl    class\n",
       "1       allude  excel    1.8  1999    4    auto(l5)   f   18   29  p  compact\n",
       "2       allude  excel    1.8  1999    4  manual(m5)   f   21   29  p  compact\n",
       "3       allude  excel    2.0  2008    4  manual(m6)   f   20   31  p  compact\n",
       "4       allude  excel    2.0  2008    4    auto(av)   f   21   30  p  compact\n",
       "5       allude  excel    2.8  1999    6    auto(l5)   f   16   26  p  compact"
      ]
     },
     "execution_count": 8,
     "metadata": {},
     "output_type": "execute_result"
    }
   ],
   "source": [
    "# Task 5 - Worksheet\n",
    "# Purpose: import the cars_mpg.csv file into a pandas dataframe.\n",
    "# Output: display the head of the dataframe\n",
    "import pandas as pd\n",
    "from pandas import DataFrame, Series\n",
    "df = pd.read_csv('cars_mpg.csv', index_col = 0)\n",
    "df.head()"
   ]
  },
  {
   "cell_type": "code",
   "execution_count": 9,
   "metadata": {},
   "outputs": [
    {
     "data": {
      "text/plain": [
       "(35, 44)"
      ]
     },
     "execution_count": 9,
     "metadata": {},
     "output_type": "execute_result"
    }
   ],
   "source": [
    "# Task 6 - Worksheet\n",
    "# Purpose: Write the code that calculates the maximum mpg for both city and highway driving\n",
    "# using dataframes\n",
    "# Output: a tuple of two floats, the max for city driving and the max for highway driving\n",
    "\n",
    "cty_max = df['cty'].max()\n",
    "hwy_max = df['hwy'].max()\n",
    "\n",
    "(cty_max, hwy_max)\n"
   ]
  },
  {
   "cell_type": "code",
   "execution_count": 10,
   "metadata": {},
   "outputs": [
    {
     "data": {
      "text/html": [
       "<div>\n",
       "<style scoped>\n",
       "    .dataframe tbody tr th:only-of-type {\n",
       "        vertical-align: middle;\n",
       "    }\n",
       "\n",
       "    .dataframe tbody tr th {\n",
       "        vertical-align: top;\n",
       "    }\n",
       "\n",
       "    .dataframe thead th {\n",
       "        text-align: right;\n",
       "    }\n",
       "</style>\n",
       "<table border=\"1\" class=\"dataframe\">\n",
       "  <thead>\n",
       "    <tr style=\"text-align: right;\">\n",
       "      <th></th>\n",
       "      <th>mpg_city</th>\n",
       "      <th>mpg_highway</th>\n",
       "    </tr>\n",
       "  </thead>\n",
       "  <tbody>\n",
       "    <tr>\n",
       "      <td>0</td>\n",
       "      <td>16.858974</td>\n",
       "      <td>23.440171</td>\n",
       "    </tr>\n",
       "    <tr>\n",
       "      <td>1</td>\n",
       "      <td>16.858974</td>\n",
       "      <td>23.440171</td>\n",
       "    </tr>\n",
       "  </tbody>\n",
       "</table>\n",
       "</div>"
      ],
      "text/plain": [
       "    mpg_city  mpg_highway\n",
       "0  16.858974    23.440171\n",
       "1  16.858974    23.440171"
      ]
     },
     "execution_count": 10,
     "metadata": {},
     "output_type": "execute_result"
    }
   ],
   "source": [
    "# Task 7 - Worksheet\n",
    "# Purpose: Write the code that calculates the average mpg for city driving and the average mpg for highway\n",
    "# driving. \n",
    "# Output: Store the results in a dataframe with the column names being mpg_city and mpg_highway\n",
    "\n",
    "#From task 1: averages for city and highway driving\n",
    "cty_avg = city_highway_avg[0]\n",
    "hwy_avg = city_highway_avg[1]\n",
    "avg_df = pd.DataFrame({'mpg_city': cty_avg, 'mpg_highway': hwy_avg}, index = list(range(2)))\n",
    "avg_df"
   ]
  },
  {
   "cell_type": "code",
   "execution_count": 11,
   "metadata": {},
   "outputs": [
    {
     "data": {
      "text/plain": [
       "<matplotlib.axes._subplots.AxesSubplot at 0x22947fac948>"
      ]
     },
     "execution_count": 11,
     "metadata": {},
     "output_type": "execute_result"
    },
    {
     "data": {
      "image/png": "[encoded data removed]",
      "text/plain": [
       "<Figure size 432x288 with 1 Axes>"
      ]
     },
     "metadata": {
      "needs_background": "light"
     },
     "output_type": "display_data"
    }
   ],
   "source": [
    "# Task 8 - Worksheet\n",
    "# Purpose: Plot the mpg for highway driving\n",
    "# Output: Plot of the highway mpg\n",
    "\n",
    "import matplotlib.pyplot as plt\n",
    "%matplotlib inline\n",
    "df['hwy'].plot.bar()"
   ]
  },
  {
   "cell_type": "code",
   "execution_count": null,
   "metadata": {},
   "outputs": [],
   "source": []
  },
  {
   "cell_type": "code",
   "execution_count": null,
   "metadata": {},
   "outputs": [],
   "source": []
  },
  {
   "cell_type": "code",
   "execution_count": null,
   "metadata": {},
   "outputs": [],
   "source": []
  },
  {
   "cell_type": "code",
   "execution_count": null,
   "metadata": {},
   "outputs": [],
   "source": []
  },
  {
   "cell_type": "code",
   "execution_count": null,
   "metadata": {},
   "outputs": [],
   "source": []
  },
  {
   "cell_type": "code",
   "execution_count": null,
   "metadata": {},
   "outputs": [],
   "source": []
  },
  {
   "cell_type": "code",
   "execution_count": null,
   "metadata": {},
   "outputs": [],
   "source": []
  },
  {
   "cell_type": "code",
   "execution_count": null,
   "metadata": {},
   "outputs": [],
   "source": []
  },
  {
   "cell_type": "code",
   "execution_count": null,
   "metadata": {},
   "outputs": [],
   "source": []
  },
  {
   "cell_type": "code",
   "execution_count": null,
   "metadata": {},
   "outputs": [],
   "source": []
  }
 ],
 "metadata": {
  "kernelspec": {
   "display_name": "Python 3",
   "language": "python",
   "name": "python3"
  },
  "language_info": {
   "codemirror_mode": {
    "name": "ipython",
    "version": 3
   },
   "file_extension": ".py",
   "mimetype": "text/x-python",
   "name": "python",
   "nbconvert_exporter": "python",
   "pygments_lexer": "ipython3",
   "version": "3.7.4"
  }
 },
 "nbformat": 4,
 "nbformat_minor": 2
}
